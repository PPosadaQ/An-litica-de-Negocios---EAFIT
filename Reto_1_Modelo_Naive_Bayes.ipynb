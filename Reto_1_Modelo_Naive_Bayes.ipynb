{
  "nbformat": 4,
  "nbformat_minor": 0,
  "metadata": {
    "colab": {
      "provenance": [],
      "include_colab_link": true
    },
    "kernelspec": {
      "name": "python3",
      "display_name": "Python 3"
    },
    "language_info": {
      "name": "python"
    }
  },
  "cells": [
    {
      "cell_type": "markdown",
      "metadata": {
        "id": "view-in-github",
        "colab_type": "text"
      },
      "source": [
        "<a href=\"https://colab.research.google.com/github/PPosadaQ/Analitica-de-Negocios---EAFIT/blob/main/Reto_1_Modelo_Naive_Bayes.ipynb\" target=\"_parent\"><img src=\"https://colab.research.google.com/assets/colab-badge.svg\" alt=\"Open In Colab\"/></a>"
      ]
    },
    {
      "cell_type": "markdown",
      "source": [
        "**Modelo de Aprobación - Naive Bayes**\n",
        "\n",
        "0. Se procede con la carga de las librerías de trabajo"
      ],
      "metadata": {
        "id": "SNibTaKI3Oy4"
      }
    },
    {
      "cell_type": "code",
      "source": [
        "import numpy as np #Funciones matematicas\n",
        "import pandas as pd #Comunicación con Excel\n",
        "from sklearn.naive_bayes import GaussianNB #Modelo de Naive Bayes\n",
        "from sklearn.metrics import confusion_matrix #Matriz de confusion"
      ],
      "metadata": {
        "id": "HiIbyYWz3T8U"
      },
      "execution_count": null,
      "outputs": []
    },
    {
      "cell_type": "markdown",
      "source": [
        "1. Se cargan los datos"
      ],
      "metadata": {
        "id": "YecXJGcP4si4"
      }
    },
    {
      "cell_type": "code",
      "source": [
        "nxl = \"/content/1. BD1_Longitudinal Survey_Int.xlsx\"\n",
        "XDB = pd.read_excel(nxl,sheet_name=0) #Traigo los datos\n",
        "XDB.dropna(inplace=True) #Elimina datos faltantes y celdas vacías\n",
        "\n",
        "#Seleccionamos las variables de interés\n",
        "XDB=XDB[[\"Age\",\"Father_Edu\",\"Mother_Edu\",\"Height\",\"Weight\",\"Income\",\"Self_Esteem\",\"FamilySize\",\"Urban\"]]\n",
        "\n",
        "#Datos de Entrada\n",
        "XD=np.array(XDB[[\"Age\",\"Father_Edu\",\"Mother_Edu\",\"Height\",\"Weight\",\"Income\",\"Self_Esteem\",\"FamilySize\"]])\n",
        "#Datos de Salida - Valor deseado - Lo que quiero que aprenda el modelo\n",
        "yd=np.array(XDB[\"Urban\"])"
      ],
      "metadata": {
        "id": "b4FfEbCb46dP"
      },
      "execution_count": null,
      "outputs": []
    },
    {
      "cell_type": "markdown",
      "source": [
        "2. Implementamos Modelo"
      ],
      "metadata": {
        "id": "O1SuuNYbAooT"
      }
    },
    {
      "cell_type": "code",
      "source": [
        "mnb=GaussianNB() #Llamamos al modelo\n",
        "mnb.fit(XD,yd) #Entrenamos el modelo\n",
        "ydp=mnb.predict(XD) #Muestra los datos de salida - pero que el obtuvo\n",
        "\n",
        "#Parametros del modelo por categoría - Urbano/Rural\n",
        "u=mnb.theta_ #Se estiman las Medias\n",
        "sigma=np.sqrt(mnb.var_) #Se estiman las desviaciones\n",
        "\n",
        "\n",
        "cn=confusion_matrix(yd,ydp) #Matriz de confusión\n",
        "print(\"La matriz de confusión es:\")\n",
        "print(cn)"
      ],
      "metadata": {
        "id": "ni_YOLaTApRh",
        "colab": {
          "base_uri": "https://localhost:8080/"
        },
        "outputId": "2a5eafeb-2b05-4a9f-8b46-30dc25e74acc"
      },
      "execution_count": null,
      "outputs": [
        {
          "output_type": "stream",
          "name": "stdout",
          "text": [
            "La matriz de confusión es:\n",
            "[[   2 1171]\n",
            " [   4 4506]]\n"
          ]
        }
      ]
    },
    {
      "cell_type": "markdown",
      "source": [
        "3. Se procede con la evaluación del modelo"
      ],
      "metadata": {
        "id": "xinbwV1ODG_e"
      }
    },
    {
      "cell_type": "code",
      "source": [
        "VN=cn[0,0] #Verdaderos Negativos\n",
        "FP=cn[0,1] #Falsos Positivos\n",
        "FN=cn[1,0] #Falsos Negativos\n",
        "VP=cn[1,1] #Verdaderos Positivos\n",
        "\n",
        "\n",
        "Exactitud=(VP+VN)/len(XD) #LEN son el total de los datos\n",
        "print(\"La exactitud del modelo es:\")\n",
        "print(Exactitud) #Comportamiento general\n",
        "\n",
        "TE=(FN+FP)/len(XD) #Tasa de Error\n",
        "print(\"La tasa de error del modelo es:\")\n",
        "print(TE) #Porcentaje de equivocaciones\n",
        "\n",
        "sensibilidad=VP/(VP+FP) #Como se comportó frente a los positivos\n",
        "print(\"La sensibilidad del modelo es:\")\n",
        "print(sensibilidad)\n",
        "\n",
        "Especificidad=VN/(VN+FN) #Como se comportó frente a los negativos\n",
        "print(\"La especificidad del modelo es:\")\n",
        "print(Especificidad)"
      ],
      "metadata": {
        "id": "b8hGC9W2DHmp",
        "colab": {
          "base_uri": "https://localhost:8080/"
        },
        "outputId": "34651269-d0b8-4cd6-eefb-79fa04718448"
      },
      "execution_count": null,
      "outputs": [
        {
          "output_type": "stream",
          "name": "stdout",
          "text": [
            "La exactitud del modelo es:\n",
            "0.7932430054548654\n",
            "La tasa de error del modelo es:\n",
            "0.2067569945451346\n",
            "La sensibilidad del modelo es:\n",
            "0.793729082261758\n",
            "La especificidad del modelo es:\n",
            "0.3333333333333333\n"
          ]
        }
      ]
    },
    {
      "cell_type": "markdown",
      "source": [
        "4. Qué pasa con una sola persona"
      ],
      "metadata": {
        "id": "QdlEOfGaDVrh"
      }
    },
    {
      "cell_type": "code",
      "source": [
        "Xun=np.array([34,9,6,65,135,50000,30,3]) #Esta es la persona del excel\n",
        "ydun=mnb.predict([Xun]) #Muestra los datos de salida - pero que el obtuvo\n",
        "print(ydun)"
      ],
      "metadata": {
        "id": "PH2w8xyCDXqY",
        "colab": {
          "base_uri": "https://localhost:8080/"
        },
        "outputId": "5793a591-2455-49b6-a953-bb44a7094ea4"
      },
      "execution_count": null,
      "outputs": [
        {
          "output_type": "stream",
          "name": "stdout",
          "text": [
            "[1.]\n"
          ]
        }
      ]
    },
    {
      "cell_type": "markdown",
      "source": [
        "**ANÁLISIS GENERAL DE LOS RESULTADOS**"
      ],
      "metadata": {
        "id": "VqVO9DMjUfp8"
      }
    },
    {
      "cell_type": "markdown",
      "source": [
        "Con respecto a las matrices se puede observar que el modelo funcionó mejor clasficando las personas con la calidad de URBANOS, como lo dice el indicador de sensibilidad el cual alcanzó el 79% de certeza\n",
        "\n",
        "De manera general se puede observar que el modelo logró una exactitud que se ubicó por encima del 79% en promedio, y una tasa de error cercana al 21% en promedio.\n",
        "\n",
        "De manera negeral esta exactitud lo convierte en un buen modelo, para una persona con las siguientes características  ['Age','Mother_Edu','Father_Edu','Height','Weight','Income','Self_Esteem','FamilySize']=[34,9,6,65,135,50000,30,3] nos da como resultado \"1\", el cual se traduce en URBANO."
      ],
      "metadata": {
        "id": "kk2gqF19RQ25"
      }
    },
    {
      "cell_type": "markdown",
      "source": [
        "**PREGUNTAS (LONGITUDINAL SURVEY)**"
      ],
      "metadata": {
        "id": "VwzKU2SXURTS"
      }
    },
    {
      "cell_type": "markdown",
      "source": [
        "1. ¿Cuál es el número de datos total de la base de datos?"
      ],
      "metadata": {
        "id": "zkvdysH9hzqe"
      }
    },
    {
      "cell_type": "code",
      "source": [
        "total_data_points = len(XDB)\n",
        "print(\"El numero total de datos es: \", total_data_points)"
      ],
      "metadata": {
        "id": "wIHMpUkzuKJa",
        "colab": {
          "base_uri": "https://localhost:8080/"
        },
        "outputId": "beb127ef-42ac-454f-fdd1-4dc3d3a2bcf1"
      },
      "execution_count": null,
      "outputs": [
        {
          "output_type": "stream",
          "name": "stdout",
          "text": [
            "El numero total de datos es:  5683\n"
          ]
        }
      ]
    },
    {
      "cell_type": "markdown",
      "source": [
        "El numero total de datos que hay en la base de datos extraída de excel fue de 12.687 datos, después de eliminar las filas con datos faltantes o inexistentes el valor total de datos que hay en que cada columna es de 5.683\n",
        "\n"
      ],
      "metadata": {
        "id": "hh-fmhBeilHu"
      }
    },
    {
      "cell_type": "markdown",
      "source": [
        "2. ¿Cuál es el porcentaje de los datos que hacen parte de cada una de las categorías de clasificación?"
      ],
      "metadata": {
        "id": "Bm35uropkWe-"
      }
    },
    {
      "cell_type": "code",
      "source": [
        "# Se calcula el porcentjae de disbtribución en la categoría de 'Age'\n",
        "Age_porcentaje = XDB['Age'].value_counts(normalize=True) * 100\n",
        "\n",
        "# Mostrar los porcentajes\n",
        "print(Age_porcentaje)"
      ],
      "metadata": {
        "id": "sBFYrdo_vb2p",
        "colab": {
          "base_uri": "https://localhost:8080/"
        },
        "outputId": "42dbda03-2c1e-49b0-a7dc-3ea1023820a4"
      },
      "execution_count": null,
      "outputs": [
        {
          "output_type": "stream",
          "name": "stdout",
          "text": [
            "Age\n",
            "17    14.235439\n",
            "18    13.936301\n",
            "19    13.672356\n",
            "16    13.584374\n",
            "15    11.543199\n",
            "20    11.261658\n",
            "21    11.032905\n",
            "22    10.733767\n",
            "Name: proportion, dtype: float64\n"
          ]
        }
      ]
    },
    {
      "cell_type": "code",
      "source": [
        "# Se calcula el porcentjae de disbtribución en la categoría de 'Father_Edu'\n",
        "FatherEdu_porcentaje = XDB['Father_Edu'].value_counts(normalize=True) * 100\n",
        "\n",
        "# Mostrar los porcentajes\n",
        "print(FatherEdu_porcentaje)"
      ],
      "metadata": {
        "id": "IpjnAo4tu7ZK",
        "colab": {
          "base_uri": "https://localhost:8080/"
        },
        "outputId": "4c581753-ef54-40bb-f2bb-71d7578e2e88"
      },
      "execution_count": null,
      "outputs": [
        {
          "output_type": "stream",
          "name": "stdout",
          "text": [
            "Father_Edu\n",
            "12.0    34.594404\n",
            "16.0     8.534225\n",
            "8.0      7.636812\n",
            "10.0     6.686609\n",
            "14.0     5.507654\n",
            "11.0     5.454865\n",
            "9.0      5.226113\n",
            "6.0      4.451874\n",
            "13.0     2.850607\n",
            "7.0      2.709836\n",
            "18.0     2.164350\n",
            "4.0      1.918001\n",
            "0.0      1.812423\n",
            "3.0      1.794827\n",
            "20.0     1.777230\n",
            "5.0      1.742038\n",
            "15.0     1.689249\n",
            "17.0     1.530882\n",
            "2.0      1.002991\n",
            "19.0     0.527890\n",
            "1.0      0.387119\n",
            "Name: proportion, dtype: float64\n"
          ]
        }
      ]
    },
    {
      "cell_type": "code",
      "source": [
        "# Se calcula el porcentjae de disbtribución en la categoría de 'Mother_Edu'\n",
        "MotherEdu_porcentaje = XDB['Mother_Edu'].value_counts(normalize=True) * 100\n",
        "\n",
        "# Mostrar los porcentajes\n",
        "print(MotherEdu_porcentaje)"
      ],
      "metadata": {
        "id": "eyYnTkvxv23E",
        "colab": {
          "base_uri": "https://localhost:8080/"
        },
        "outputId": "6b934c24-8946-45ef-99a2-76728866658c"
      },
      "execution_count": null,
      "outputs": [
        {
          "output_type": "stream",
          "name": "stdout",
          "text": [
            "Mother_Edu\n",
            "12.0    42.688721\n",
            "11.0     8.710188\n",
            "10.0     7.865564\n",
            "16.0     6.405068\n",
            "8.0      5.666021\n",
            "14.0     5.190920\n",
            "9.0      4.821397\n",
            "13.0     3.519268\n",
            "6.0      3.360901\n",
            "7.0      1.794827\n",
            "15.0     1.513285\n",
            "5.0      1.513285\n",
            "4.0      1.425304\n",
            "3.0      1.372515\n",
            "17.0     1.073377\n",
            "0.0      1.073377\n",
            "18.0     0.791835\n",
            "2.0      0.721450\n",
            "1.0      0.193560\n",
            "19.0     0.175963\n",
            "20.0     0.123174\n",
            "Name: proportion, dtype: float64\n"
          ]
        }
      ]
    },
    {
      "cell_type": "code",
      "source": [
        "# Se calcula el porcentjae de disbtribución en la categoría de 'Height'\n",
        "Height_porcentaje = XDB['Height'].value_counts(normalize=True) * 100\n",
        "\n",
        "# Mostrar los porcentajes\n",
        "print(Height_porcentaje)"
      ],
      "metadata": {
        "id": "8hTsMP4kwBPs",
        "colab": {
          "base_uri": "https://localhost:8080/"
        },
        "outputId": "68d38a1d-19bc-47bc-d0dc-bd29bacc4a54"
      },
      "execution_count": null,
      "outputs": [
        {
          "output_type": "stream",
          "name": "stdout",
          "text": [
            "Height\n",
            "67.0    9.449235\n",
            "64.0    9.326060\n",
            "66.0    9.079711\n",
            "68.0    7.707197\n",
            "65.0    7.408059\n",
            "63.0    7.144114\n",
            "62.0    6.880169\n",
            "72.0    6.651417\n",
            "70.0    6.581031\n",
            "71.0    6.528242\n",
            "69.0    6.229104\n",
            "73.0    4.047158\n",
            "61.0    3.519268\n",
            "74.0    2.780222\n",
            "60.0    2.692240\n",
            "75.0    1.214147\n",
            "59.0    0.950202\n",
            "76.0    0.756643\n",
            "77.0    0.369523\n",
            "58.0    0.228752\n",
            "57.0    0.158367\n",
            "78.0    0.087982\n",
            "56.0    0.052789\n",
            "55.0    0.035193\n",
            "51.0    0.035193\n",
            "79.0    0.035193\n",
            "53.0    0.035193\n",
            "80.0    0.017596\n",
            "Name: proportion, dtype: float64\n"
          ]
        }
      ]
    },
    {
      "cell_type": "code",
      "source": [
        "# Se calcula el porcentjae de disbtribución en la categoría de 'Weight'\n",
        "Weight_porcentaje = XDB['Weight'].value_counts(normalize=True) * 100\n",
        "\n",
        "# Mostrar los porcentajes\n",
        "print(Weight_porcentaje)"
      ],
      "metadata": {
        "id": "48JWa4N_wIOd",
        "colab": {
          "base_uri": "https://localhost:8080/"
        },
        "outputId": "0cb1f2a9-fbc7-42ef-d9db-2700fcfceac5"
      },
      "execution_count": null,
      "outputs": [
        {
          "output_type": "stream",
          "name": "stdout",
          "text": [
            "Weight\n",
            "140.0    5.560443\n",
            "130.0    5.226113\n",
            "120.0    5.102939\n",
            "150.0    4.874186\n",
            "135.0    4.663030\n",
            "           ...   \n",
            "229.0    0.017596\n",
            "246.0    0.017596\n",
            "226.0    0.017596\n",
            "290.0    0.017596\n",
            "201.0    0.017596\n",
            "Name: proportion, Length: 163, dtype: float64\n"
          ]
        }
      ]
    },
    {
      "cell_type": "code",
      "source": [
        "# Se calcula el porcentjae de disbtribución en la categoría de 'Income'\n",
        "Income_porcentaje = XDB['Income'].value_counts(normalize=True) * 100\n",
        "\n",
        "# Mostrar los porcentajes\n",
        "print(Income_porcentaje)"
      ],
      "metadata": {
        "id": "DVHvJ4gLwNNz",
        "colab": {
          "base_uri": "https://localhost:8080/"
        },
        "outputId": "cff3be12-f9df-47da-c06a-3bfb954e56e7"
      },
      "execution_count": null,
      "outputs": [
        {
          "output_type": "stream",
          "name": "stdout",
          "text": [
            "Income\n",
            "0.0        13.672356\n",
            "30000.0     2.797818\n",
            "25000.0     2.604258\n",
            "35000.0     2.375506\n",
            "40000.0     2.305121\n",
            "             ...    \n",
            "7.0         0.017596\n",
            "17188.0     0.017596\n",
            "540.0       0.017596\n",
            "50100.0     0.017596\n",
            "43600.0     0.017596\n",
            "Name: proportion, Length: 599, dtype: float64\n"
          ]
        }
      ]
    },
    {
      "cell_type": "code",
      "source": [
        "# Se calcula el porcentjae de disbtribución en la categoría de 'Self_Esteem'\n",
        "SelfEsteem_porcentaje = XDB['Self_Esteem'].value_counts(normalize=True) * 100\n",
        "\n",
        "# Mostrar los porcentajes\n",
        "print(SelfEsteem_porcentaje)"
      ],
      "metadata": {
        "id": "zZrZP5T_wTko",
        "colab": {
          "base_uri": "https://localhost:8080/"
        },
        "outputId": "6e14bee2-dee8-4db7-c2d2-d9029d0406c5"
      },
      "execution_count": null,
      "outputs": [
        {
          "output_type": "stream",
          "name": "stdout",
          "text": [
            "Self_Esteem\n",
            "20.0    10.856942\n",
            "19.0     8.393454\n",
            "23.0     8.252683\n",
            "22.0     8.023931\n",
            "21.0     7.636812\n",
            "18.0     7.355270\n",
            "24.0     7.232096\n",
            "25.0     6.669013\n",
            "26.0     6.493049\n",
            "27.0     6.088334\n",
            "30.0     5.208517\n",
            "28.0     4.399085\n",
            "17.0     4.399085\n",
            "29.0     3.589653\n",
            "16.0     2.569066\n",
            "15.0     1.513285\n",
            "14.0     0.580679\n",
            "13.0     0.351927\n",
            "11.0     0.158367\n",
            "12.0     0.123174\n",
            "10.0     0.052789\n",
            "7.0      0.017596\n",
            "8.0      0.017596\n",
            "9.0      0.017596\n",
            "Name: proportion, dtype: float64\n"
          ]
        }
      ]
    },
    {
      "cell_type": "code",
      "source": [
        "# Se calcula el porcentjae de disbtribución en la categoría de 'FamilySize'\n",
        "FamilySize_porcentaje = XDB['FamilySize'].value_counts(normalize=True) * 100\n",
        "\n",
        "# Mostrar los porcentajes\n",
        "print(FamilySize_porcentaje)"
      ],
      "metadata": {
        "id": "S5EyuMhVwhzt",
        "colab": {
          "base_uri": "https://localhost:8080/"
        },
        "outputId": "dbcb783c-ef48-4674-a47a-0b4073e88ce9"
      },
      "execution_count": null,
      "outputs": [
        {
          "output_type": "stream",
          "name": "stdout",
          "text": [
            "FamilySize\n",
            "5     19.672708\n",
            "4     19.637515\n",
            "3     15.625550\n",
            "6     13.619567\n",
            "2      7.513637\n",
            "7      7.372866\n",
            "1      6.616224\n",
            "8      4.416681\n",
            "9      2.357910\n",
            "10     1.689249\n",
            "11     0.897413\n",
            "15     0.211156\n",
            "12     0.193560\n",
            "13     0.140771\n",
            "14     0.035193\n",
            "Name: proportion, dtype: float64\n"
          ]
        }
      ]
    },
    {
      "cell_type": "code",
      "source": [
        "# Se calcula el porcentjae de disbtribución en la categoría de 'Urban'\n",
        "Urban_porcentaje = XDB['Urban'].value_counts(normalize=True) * 100\n",
        "\n",
        "# Mostrar los porcentajes\n",
        "print(Urban_porcentaje)"
      ],
      "metadata": {
        "id": "VLK9-3rBwniS",
        "colab": {
          "base_uri": "https://localhost:8080/"
        },
        "outputId": "5578adf2-a494-49a0-b231-b9a2c19ea72b"
      },
      "execution_count": null,
      "outputs": [
        {
          "output_type": "stream",
          "name": "stdout",
          "text": [
            "Urban\n",
            "1.0    79.359493\n",
            "0.0    20.640507\n",
            "Name: proportion, dtype: float64\n"
          ]
        }
      ]
    },
    {
      "cell_type": "markdown",
      "source": [
        "3. Determinar el intervalo en el cual se encuentra la variación de la Edad\n"
      ],
      "metadata": {
        "id": "heSjh_jDlvjL"
      }
    },
    {
      "cell_type": "code",
      "source": [
        "min_age = XDB['Age'].min()\n",
        "max_age = XDB['Age'].max()\n",
        "\n",
        "print(\"El intervalo de la variable Age es: [{}, {}]\".format(min_age, max_age))"
      ],
      "metadata": {
        "id": "R_XySm8Lw15-",
        "colab": {
          "base_uri": "https://localhost:8080/"
        },
        "outputId": "fadfb69a-b2c2-41a4-a799-491f0d155414"
      },
      "execution_count": null,
      "outputs": [
        {
          "output_type": "stream",
          "name": "stdout",
          "text": [
            "El intervalo de la variable Age es: [15, 22]\n"
          ]
        }
      ]
    },
    {
      "cell_type": "markdown",
      "source": [
        "De acuerdo a este resultado, podemos infereir que la media de la variable edad es de 18,5 años, es por esto que el límite se mueve 3.5 unidades positivo y 3.5 unidades negativo."
      ],
      "metadata": {
        "id": "PI7y9PNu3DOJ"
      }
    },
    {
      "cell_type": "markdown",
      "source": [
        "4. Determinar el intervalo en el cual se encuentra la variación de la Altura"
      ],
      "metadata": {
        "id": "YoMIurV8qCIh"
      }
    },
    {
      "cell_type": "code",
      "source": [
        "min_height = XDB['Height'].min()\n",
        "max_height = XDB['Height'].max()\n",
        "\n",
        "print(\"El intervalo de la variable Height es: [{}, {}]\".format(min_height, max_height))"
      ],
      "metadata": {
        "id": "5tIHFYEnxBgW",
        "colab": {
          "base_uri": "https://localhost:8080/"
        },
        "outputId": "94d45e39-aee2-44fa-a945-c0507809b50d"
      },
      "execution_count": null,
      "outputs": [
        {
          "output_type": "stream",
          "name": "stdout",
          "text": [
            "El intervalo de la variable Height es: [51.0, 80.0]\n"
          ]
        }
      ]
    },
    {
      "cell_type": "markdown",
      "source": [
        "De acuerdo a este resultado, podemos infereir que la media de la variable altura es de 65.5, es por esto que el límite se mueve 14.5 unidades positivo y 14.5 unidades negativo."
      ],
      "metadata": {
        "id": "PdDX6KOs3QjO"
      }
    },
    {
      "cell_type": "markdown",
      "source": [
        "5. Determinar el intervalo en el cual se encuentra la variación del Peso de las Personas\n"
      ],
      "metadata": {
        "id": "bV8t4ABJrK4F"
      }
    },
    {
      "cell_type": "code",
      "source": [
        "# Calcular el valor mínimo y máximo de la columna 'Weight'\n",
        "min_weight = XDB['Weight'].min()\n",
        "max_weight = XDB['Weight'].max()\n",
        "\n",
        "print(\"El intervalo de la variable Weight es: [{}, {}]\".format(min_weight, max_weight))"
      ],
      "metadata": {
        "id": "IV5FStcYxMR8",
        "colab": {
          "base_uri": "https://localhost:8080/"
        },
        "outputId": "39143c3f-d745-4cac-b7d5-13dcc0ec0a50"
      },
      "execution_count": null,
      "outputs": [
        {
          "output_type": "stream",
          "name": "stdout",
          "text": [
            "El intervalo de la variable Weight es: [72.0, 375.0]\n"
          ]
        }
      ]
    },
    {
      "cell_type": "markdown",
      "source": [
        "De acuerdo a este resultado, podemos infereir que la media de la variable Peso es de 223.5, es por esto que el límite se mueve 151.5 unidades positivo y 151.5 unidades negativo."
      ],
      "metadata": {
        "id": "QZIz7TZy3gwo"
      }
    },
    {
      "cell_type": "markdown",
      "source": [
        "6. ¿Cuál es la exactitud alcanzada por el modelo?"
      ],
      "metadata": {
        "id": "YwHzXYi82HCq"
      }
    },
    {
      "cell_type": "code",
      "source": [
        "Exactitud=(VP+VN)/len(XD) #LEN son el total de los datos\n",
        "print(\"La exactitud del modelo es:\")\n",
        "print(Exactitud) #Comportamiento general"
      ],
      "metadata": {
        "id": "x__3ba__2Qjk",
        "colab": {
          "base_uri": "https://localhost:8080/"
        },
        "outputId": "8033e3da-6fa5-4d01-9129-b114c1ba9daa"
      },
      "execution_count": null,
      "outputs": [
        {
          "output_type": "stream",
          "name": "stdout",
          "text": [
            "La exactitud del modelo es:\n",
            "0.7932430054548654\n"
          ]
        }
      ]
    },
    {
      "cell_type": "markdown",
      "source": [
        "De acuerdo a esta cifra, encontramos que el modelo tiene un porcentaje del 79% aproximadamente de exactitud, por lo que puede llegar a ser confiable para ponerlo en prática ya que cuenta con una tasa mayor al .70"
      ],
      "metadata": {
        "id": "ea5Ka59H4HMm"
      }
    },
    {
      "cell_type": "markdown",
      "source": [
        "7. ¿Cuál es la tasa de error alcanzada por el modelo?"
      ],
      "metadata": {
        "id": "LmH3YTZC2U92"
      }
    },
    {
      "cell_type": "code",
      "source": [
        "TE=(FN+FP)/len(XD) #Tasa de Error\n",
        "print(\"La tasa de error del modelo es:\")\n",
        "print(TE) #Porcentaje de equivocaciones"
      ],
      "metadata": {
        "id": "NicieDJh2YjX",
        "colab": {
          "base_uri": "https://localhost:8080/"
        },
        "outputId": "f39401b0-8a8e-45f3-98fc-493ece2a683f"
      },
      "execution_count": null,
      "outputs": [
        {
          "output_type": "stream",
          "name": "stdout",
          "text": [
            "La tasa de error del modelo es:\n",
            "0.2067569945451346\n"
          ]
        }
      ]
    },
    {
      "cell_type": "markdown",
      "source": [
        "De acuerdo a esta cifra, encontramos que tiene un porcentaje de error del 20% aproximadamente, una tasa baja en comparación a la generalidad."
      ],
      "metadata": {
        "id": "98Kq-lLH4ZpW"
      }
    },
    {
      "cell_type": "markdown",
      "source": [
        "8. ¿Cuál es la Sensibilidad alcanzada por el modelo?"
      ],
      "metadata": {
        "id": "dCHFd0AF2chb"
      }
    },
    {
      "cell_type": "code",
      "source": [
        "sensibilidad=VP/(VP+FP) #Como se comportó frente a los positivos\n",
        "print(\"La sensibilidad del modelo es:\")\n",
        "print(sensibilidad)"
      ],
      "metadata": {
        "id": "rInrbJHL2gXq",
        "colab": {
          "base_uri": "https://localhost:8080/"
        },
        "outputId": "02f21941-5bc8-4d2a-9c01-1546ca395d36"
      },
      "execution_count": null,
      "outputs": [
        {
          "output_type": "stream",
          "name": "stdout",
          "text": [
            "La sensibilidad del modelo es:\n",
            "0.793729082261758\n"
          ]
        }
      ]
    },
    {
      "cell_type": "markdown",
      "source": [
        "9. ¿Cuál es la Especificidad alcanzada por el modelo?"
      ],
      "metadata": {
        "id": "sJUJnCbV2lYl"
      }
    },
    {
      "cell_type": "code",
      "source": [
        "Especificidad=VN/(VN+FN) #Como se comportó frente a los negativos\n",
        "print(\"La especificidad del modelo es:\")\n",
        "print(Especificidad)"
      ],
      "metadata": {
        "id": "_Dv2VJJj2oNJ",
        "colab": {
          "base_uri": "https://localhost:8080/"
        },
        "outputId": "eb4e2abe-cf65-4ae1-9cbf-3497c7107b6e"
      },
      "execution_count": null,
      "outputs": [
        {
          "output_type": "stream",
          "name": "stdout",
          "text": [
            "La especificidad del modelo es:\n",
            "0.3333333333333333\n"
          ]
        }
      ]
    },
    {
      "cell_type": "markdown",
      "source": [
        "10. ¿Para una persona con las siguientes características indicar si vive en la ciudad o las áreas rurales ['Age','Mother_Edu','Father_Edu','Height','Weight','Income','Self_Esteem','FamilySize']=[34,9,6,65,135,50000,30,3]?"
      ],
      "metadata": {
        "id": "vydnlnnx2reO"
      }
    },
    {
      "cell_type": "code",
      "source": [
        "Xun=np.array([34,9,6,65,135,50000,30,3]) #Esta es la persona del excel\n",
        "ydun=mnb.predict([Xun]) #Muestra los datos de salida - pero que el obtuvo\n",
        "print(ydun)"
      ],
      "metadata": {
        "id": "nG9V6BuG2x8F",
        "colab": {
          "base_uri": "https://localhost:8080/"
        },
        "outputId": "c362455f-e202-45a3-81e9-b77b8afbb949"
      },
      "execution_count": null,
      "outputs": [
        {
          "output_type": "stream",
          "name": "stdout",
          "text": [
            "[1.]\n"
          ]
        }
      ]
    }
  ]
}